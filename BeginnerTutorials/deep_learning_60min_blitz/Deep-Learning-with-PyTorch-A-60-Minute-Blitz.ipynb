{
 "cells": [
  {
   "cell_type": "markdown",
   "metadata": {},
   "source": [
    "# PyTorch ? #"
   ]
  },
  {
   "cell_type": "markdown",
   "metadata": {},
   "source": [
    "It’s a Python based scientific computing package targeted at two sets of audiences:\n",
    "\n",
    "- A replacement for NumPy to use the power of GPUs\n",
    "- a deep learning research platform that provides maximum flexibility and speed"
   ]
  },
  {
   "cell_type": "markdown",
   "metadata": {},
   "source": [
    "## 시작하기 ##"
   ]
  },
  {
   "cell_type": "markdown",
   "metadata": {},
   "source": [
    "### Tensor ###"
   ]
  },
  {
   "cell_type": "markdown",
   "metadata": {},
   "source": [
    "Tensors are similar to NumPy’s ndarrays, with the addition being that Tensors can also be used on a GPU to accelerate computing."
   ]
  },
  {
   "cell_type": "code",
   "execution_count": 4,
   "metadata": {},
   "outputs": [],
   "source": [
    "from __future__ import print_function\n",
    "import torch"
   ]
  },
  {
   "cell_type": "markdown",
   "metadata": {},
   "source": [
    "Construct a 5x3 matrix, uninitialized:"
   ]
  },
  {
   "cell_type": "code",
   "execution_count": 6,
   "metadata": {},
   "outputs": [
    {
     "name": "stdout",
     "output_type": "stream",
     "text": [
      "\n",
      " 0.0000e+00  8.5899e+09  0.0000e+00\n",
      " 8.5899e+09  8.4078e-45  0.0000e+00\n",
      " 0.0000e+00  0.0000e+00  0.0000e+00\n",
      " 0.0000e+00  0.0000e+00  2.7551e-40\n",
      " 0.0000e+00  0.0000e+00  0.0000e+00\n",
      "[torch.FloatTensor of size 5x3]\n",
      "\n"
     ]
    }
   ],
   "source": [
    "x = torch.Tensor(5, 3)\n",
    "print(x)"
   ]
  },
  {
   "cell_type": "markdown",
   "metadata": {},
   "source": [
    "Construct a randomly initialized matrix:"
   ]
  },
  {
   "cell_type": "code",
   "execution_count": 7,
   "metadata": {},
   "outputs": [
    {
     "name": "stdout",
     "output_type": "stream",
     "text": [
      "\n",
      " 0.4960  0.2834  0.7575\n",
      " 0.8623  0.8793  0.4026\n",
      " 0.7986  0.9126  0.0672\n",
      " 0.9784  0.9206  0.0064\n",
      " 0.3401  0.8708  0.0747\n",
      "[torch.FloatTensor of size 5x3]\n",
      "\n"
     ]
    }
   ],
   "source": [
    "x = torch.rand(5, 3)\n",
    "print(x)"
   ]
  },
  {
   "cell_type": "markdown",
   "metadata": {},
   "source": [
    "Get its size:"
   ]
  },
  {
   "cell_type": "code",
   "execution_count": 9,
   "metadata": {},
   "outputs": [
    {
     "name": "stdout",
     "output_type": "stream",
     "text": [
      "torch.Size([5, 3])\n"
     ]
    }
   ],
   "source": [
    "print(x.size())"
   ]
  },
  {
   "cell_type": "markdown",
   "metadata": {},
   "source": [
    "> **torch.Size** is in fact a tuple, so it supports all tuple operations."
   ]
  },
  {
   "cell_type": "markdown",
   "metadata": {},
   "source": [
    ">튜플은 소괄호로 묶어서 표현하거나 ,(쉼표)를 이용해서 표현한다.\n",
    "\n",
    "># 튜플 선언\n",
    ">tuple1 = (1, 2, 3)\n",
    ">tuple2 = 1, 2, 3\n",
    ">tuple3 = 1,\n",
    ">\n",
    ">\n",
    ">위와 같이 튜플은 소괄호를 사용하지 않고 ,(쉼표)를 이용해 나열해 사용할 수 있다. 원소가 하나인 튜플은 반드시 원소 뒤에 ,(쉼표)를 붙여야 한다.\n",
    ">\n",
    "># SWAP (값 서로 변경)\n",
    "># 튜플이 없을 때\n",
    ">str1 = 'a'\n",
    ">str2 = 'b'\n",
    "> \n",
    ">temp = str1\n",
    ">str1 = str2\n",
    ">str2 = temp\n",
    "> \n",
    ">print str1, str2\n",
    "> \n",
    "># 파이썬\n",
    ">str3 = 'a'\n",
    ">str4 = 'b'\n",
    "> \n",
    ">str3, str4 = str4, str3\n",
    ">#(str3, str4) = (str4, str3)\n",
    "> \n",
    ">print str3, str4\n",
    ">\n",
    ">\n",
    ">매개변수 가변인자 (매개변수로 몇개가 들어올지 모르는 경우)\n",
    ">\n",
    "># 매개변수가 반드시 하나 이상 들어올 때\n",
    "># 처음 매개변수는 num1, 나머지는 튜플에 저장\n",
    ">def VarargFunc(num1, *nums):\n",
    ">    print num1, nums\n",
    "> \n",
    ">VarargFunc(1)\n",
    ">\n",
    ">\n",
    ">튜플은 직접적으로 원소를 변경할 수 없다. 변경하려면 오려 붙이는 식으로 해야한다.\n",
    ">\n",
    "># 튜플 선언\n",
    ">tuple = (1,2,3,4,5)\n",
    "> \n",
    "># 튜플은 직접적으로 요소 변경 불가능\n",
    ">tuple[2] = 10 #ERROR!!\n",
    "> \n",
    "># 인덱싱이나 슬라이싱을 이용해서 변경\n",
    ">\n",
    "># tuple + int + tuple 자료형 불일치\n",
    ">tuple2 = tuple[0:2]+10+tuple[3:] #ERROR!!\n",
    "> \n",
    "># tuple + tuple + tuple 자료형 일치\n",
    ">tuple2 = tuple[0:2]+(10,)+tuple[3:]\n",
    ">print tuple2\n",
    ">\n",
    ">\n",
    ">튜플에서 리스트로, 리스트에서 튜플로 변경이 가능하다.\n",
    ">\n",
    "># 튜플 선언\n",
    ">tup = (1,2,3,4,5)\n",
    "> \n",
    "># 튜플 -> 리스트\n",
    ">tupleToList = list(tup)\n",
    ">print tupleToList\n",
    "> \n",
    "># 리스트 -> 튜플\n",
    ">listToTuple = tuple(tupleToList)\n",
    ">print listToTuple\n",
    ">\n",
    ">\n",
    ">튜플 + 튜플, 튜플 * 숫자 연산도 가능하다.\n",
    ">\n",
    "># 튜플 선언\n",
    ">tup1 = (1,2,3)\n",
    ">tup2 = (4, 5)\n",
    ">tup3 = tup1 + tup2\n",
    "> \n",
    ">print tup3\n",
    ">print tup1*3\n",
    ">\n"
   ]
  },
  {
   "cell_type": "markdown",
   "metadata": {},
   "source": [
    "### Operations ###\n",
    "\n",
    "There are multiple syntaxes for operations. In the following example, we will take a look at the addition operation."
   ]
  },
  {
   "cell_type": "markdown",
   "metadata": {},
   "source": [
    "#### Addition: syntax 1 ####"
   ]
  },
  {
   "cell_type": "code",
   "execution_count": 11,
   "metadata": {},
   "outputs": [
    {
     "name": "stdout",
     "output_type": "stream",
     "text": [
      "\n",
      " 0.9442  0.2877  1.2435\n",
      " 1.2682  1.6625  0.7798\n",
      " 0.8363  1.6174  0.7892\n",
      " 0.9823  1.1800  0.4558\n",
      " 0.5500  1.5038  0.1894\n",
      "[torch.FloatTensor of size 5x3]\n",
      "\n"
     ]
    }
   ],
   "source": [
    "y = torch.rand(5, 3)\n",
    "print(x+y)"
   ]
  },
  {
   "cell_type": "markdown",
   "metadata": {},
   "source": [
    "#### Addition: syntax 2 ####"
   ]
  },
  {
   "cell_type": "code",
   "execution_count": 12,
   "metadata": {},
   "outputs": [
    {
     "name": "stdout",
     "output_type": "stream",
     "text": [
      "\n",
      " 0.9442  0.2877  1.2435\n",
      " 1.2682  1.6625  0.7798\n",
      " 0.8363  1.6174  0.7892\n",
      " 0.9823  1.1800  0.4558\n",
      " 0.5500  1.5038  0.1894\n",
      "[torch.FloatTensor of size 5x3]\n",
      "\n"
     ]
    }
   ],
   "source": [
    "print (torch.add(x, y))"
   ]
  },
  {
   "cell_type": "markdown",
   "metadata": {},
   "source": [
    "#### Addition: providing an output tensor as argument ####"
   ]
  },
  {
   "cell_type": "code",
   "execution_count": 13,
   "metadata": {},
   "outputs": [
    {
     "name": "stdout",
     "output_type": "stream",
     "text": [
      "\n",
      " 0.9442  0.2877  1.2435\n",
      " 1.2682  1.6625  0.7798\n",
      " 0.8363  1.6174  0.7892\n",
      " 0.9823  1.1800  0.4558\n",
      " 0.5500  1.5038  0.1894\n",
      "[torch.FloatTensor of size 5x3]\n",
      "\n"
     ]
    }
   ],
   "source": [
    "result = torch.Tensor(5, 3)\n",
    "print(torch.add(x, y, out=result))"
   ]
  },
  {
   "cell_type": "markdown",
   "metadata": {},
   "source": [
    "> Any operation that mutates a tensor in-place is post-fixed with an *_*. \n",
    "> For example: *x.copy_(y)*, *x.t_()*, will change x."
   ]
  },
  {
   "cell_type": "markdown",
   "metadata": {},
   "source": [
    "You can use standard NumPy-like indexing with all bells and whistles!"
   ]
  },
  {
   "cell_type": "code",
   "execution_count": 18,
   "metadata": {},
   "outputs": [
    {
     "name": "stdout",
     "output_type": "stream",
     "text": [
      "\n",
      " 0.2834\n",
      " 0.8793\n",
      " 0.9126\n",
      " 0.9206\n",
      " 0.8708\n",
      "[torch.FloatTensor of size 5]\n",
      "\n"
     ]
    }
   ],
   "source": [
    "print(x[:,1])"
   ]
  },
  {
   "cell_type": "markdown",
   "metadata": {},
   "source": [
    "Resizing: If you want to resize/reshape tensor, you can use torch.view:"
   ]
  },
  {
   "cell_type": "code",
   "execution_count": 19,
   "metadata": {},
   "outputs": [
    {
     "name": "stdout",
     "output_type": "stream",
     "text": [
      "torch.Size([4, 4]) torch.Size([16]) torch.Size([2, 8])\n"
     ]
    }
   ],
   "source": [
    "x = torch.randn(4, 4)\n",
    "y = x.view(16)\n",
    "z = x.view(-1, 8)  # the size -1 is inferred from other dimensions\n",
    "print(x.size(), y.size(), z.size())"
   ]
  },
  {
   "cell_type": "code",
   "execution_count": 20,
   "metadata": {},
   "outputs": [
    {
     "name": "stdout",
     "output_type": "stream",
     "text": [
      "\n",
      "-1.2657  0.6138 -0.0905  0.2939\n",
      " 0.5047  0.0647 -0.3517 -0.8443\n",
      " 0.5336  1.5660 -0.2245 -0.1344\n",
      "-0.0321 -0.4684 -0.0437  0.5599\n",
      "[torch.FloatTensor of size 4x4]\n",
      " \n",
      "-1.2657\n",
      " 0.6138\n",
      "-0.0905\n",
      " 0.2939\n",
      " 0.5047\n",
      " 0.0647\n",
      "-0.3517\n",
      "-0.8443\n",
      " 0.5336\n",
      " 1.5660\n",
      "-0.2245\n",
      "-0.1344\n",
      "-0.0321\n",
      "-0.4684\n",
      "-0.0437\n",
      " 0.5599\n",
      "[torch.FloatTensor of size 16]\n",
      " \n",
      "-1.2657  0.6138 -0.0905  0.2939  0.5047  0.0647 -0.3517 -0.8443\n",
      " 0.5336  1.5660 -0.2245 -0.1344 -0.0321 -0.4684 -0.0437  0.5599\n",
      "[torch.FloatTensor of size 2x8]\n",
      "\n"
     ]
    }
   ],
   "source": [
    "print(x, y, z)"
   ]
  },
  {
   "cell_type": "markdown",
   "metadata": {},
   "source": [
    "#### Read later: ####"
   ]
  },
  {
   "cell_type": "markdown",
   "metadata": {},
   "source": [
    "100+ Tensor operations, including transposing, indexing, slicing, mathematical operations, linear algebra, random numbers, etc., are described [here](http://pytorch.org/docs/torch)."
   ]
  },
  {
   "cell_type": "markdown",
   "metadata": {},
   "source": [
    "## CUDA Tensors ##"
   ]
  },
  {
   "cell_type": "markdown",
   "metadata": {},
   "source": [
    "### Tensors can be moved onto GPU using the .cuda method. ###"
   ]
  },
  {
   "cell_type": "code",
   "execution_count": 22,
   "metadata": {},
   "outputs": [],
   "source": [
    "# let us run this cell only if CUDA is available\n",
    "if torch.cuda.is_available():\n",
    "    x = x.cuda()\n",
    "    y = y.cuda()\n",
    "    x + y"
   ]
  },
  {
   "cell_type": "markdown",
   "metadata": {},
   "source": [
    "# Autograd: automatic differentiation #"
   ]
  },
  {
   "cell_type": "code",
   "execution_count": null,
   "metadata": {},
   "outputs": [],
   "source": []
  }
 ],
 "metadata": {
  "kernelspec": {
   "display_name": "Python 3",
   "language": "python",
   "name": "python3"
  },
  "language_info": {
   "codemirror_mode": {
    "name": "ipython",
    "version": 3
   },
   "file_extension": ".py",
   "mimetype": "text/x-python",
   "name": "python",
   "nbconvert_exporter": "python",
   "pygments_lexer": "ipython3",
   "version": "3.6.4"
  }
 },
 "nbformat": 4,
 "nbformat_minor": 2
}
